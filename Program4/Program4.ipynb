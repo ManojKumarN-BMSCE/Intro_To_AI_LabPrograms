{
 "cells": [
  {
   "cell_type": "code",
   "execution_count": 3,
   "metadata": {},
   "outputs": [
    {
     "name": "stdout",
     "output_type": "stream",
     "text": [
      "Truth table of a:  [False, False, False, True]\n",
      "Truth table of b:  [True, False, False, False]\n",
      "Truth table of c:  [True, True, True, True]\n",
      "Truth table of d:  [False, False, False, False]\n",
      "Truth table of e:  [True, False, True, True]\n",
      "a entails b:  No\n",
      "a entails c:  Yes\n",
      "a entails d:  No\n",
      "a entails e:  Yes\n"
     ]
    }
   ],
   "source": [
    "N = 4\n",
    "def main():\n",
    "\n",
    "    s = [1,0,1,0]\n",
    "    t = [1,1,0,0]\n",
    "    a=[]\n",
    "    b=[]\n",
    "    c=[]\n",
    "    d=[]\n",
    "    e=[]\n",
    "\n",
    "\n",
    "    for i in range(N):\n",
    "        a.append(not(s[i] or t[i]))\n",
    "        b.append(bool(s[i] and t[i]))\n",
    "        c.append(bool(t[i] or(not(t[i]))))\n",
    "        d.append(not(bidir(s[i],s[i])))\n",
    "        e.append(imp((not(s[i])),(not(t[i]))))\n",
    "    print(\"Truth table of a: \",a)\n",
    "    print(\"Truth table of b: \", b)\n",
    "    print(\"Truth table of c: \", c)\n",
    "    print(\"Truth table of d: \", d)\n",
    "    print(\"Truth table of e: \", e)\n",
    "\n",
    "    p=entails(a, b)\n",
    "    q=entails(a,c)\n",
    "    r=entails(a, d)\n",
    "    s=entails(a, e)\n",
    "    print(\"a entails b: \",p)\n",
    "    print(\"a entails c: \", q)\n",
    "    print(\"a entails d: \", r)\n",
    "    print(\"a entails e: \", s)\n",
    "\n",
    "    \n",
    "def imp(j,k):\n",
    "    return (not(j)) or k\n",
    "\n",
    "def bidir(j,k):\n",
    "    return (imp(j,k) and imp(j,k))\n",
    "\n",
    "\n",
    "def entails(m,n):\n",
    "    for i in range(N):\n",
    "        for j in range(N):\n",
    "            if (m[i] and n[j]== 1):\n",
    "                if(i==j):\n",
    "                    return \"Yes\"\n",
    "                    break\n",
    "\n",
    "    return \"No\"\n",
    "\n",
    "if __name__ == '__main__':\n",
    "    main()"
   ]
  },
  {
   "cell_type": "code",
   "execution_count": null,
   "metadata": {},
   "outputs": [],
   "source": []
  }
 ],
 "metadata": {
  "kernelspec": {
   "display_name": "Python 3",
   "language": "python",
   "name": "python3"
  },
  "language_info": {
   "codemirror_mode": {
    "name": "ipython",
    "version": 3
   },
   "file_extension": ".py",
   "mimetype": "text/x-python",
   "name": "python",
   "nbconvert_exporter": "python",
   "pygments_lexer": "ipython3",
   "version": "3.7.6"
  }
 },
 "nbformat": 4,
 "nbformat_minor": 4
}
