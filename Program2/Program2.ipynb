{
 "cells": [
  {
   "cell_type": "code",
   "execution_count": null,
   "metadata": {},
   "outputs": [],
   "source": [
    "flag=True\n",
    "count=1\n",
    "while flag:\n",
    "    perc=input(\"enter the percept: \")\n",
    "    loc=input(\"enter the location: \")\n",
    "    if loc==\"A\":\n",
    "        if perc==\"dirty\":\n",
    "            print(\"Action: Suck...Turn right\")    \n",
    "        elif perc==\"clean\":\n",
    "            print(\"Action: Turn right\")  \n",
    "    elif loc==\"B\":\n",
    "        if perc==\"dirty\":\n",
    "            print(\"Action: suck.....Turn left\")    \n",
    "        elif perc==\"clean\":\n",
    "            print(\"Action: Turn left\")\n",
    "    \n",
    "    else:\n",
    "        print(\"Enter either A or B\") \n",
    "    print(\"Do you want to continue?\")\n",
    "    Cont=input(\"Enter Y or N: \")\n",
    "    print(\"\")\n",
    "    if Cont == 'Y':\n",
    "         flag= True\n",
    "    else : \n",
    "         flag = False\n"
   ]
  }
 ],
 "metadata": {
  "kernelspec": {
   "display_name": "Python 3",
   "language": "python",
   "name": "python3"
  },
  "language_info": {
   "codemirror_mode": {
    "name": "ipython",
    "version": 3
   },
   "file_extension": ".py",
   "mimetype": "text/x-python",
   "name": "python",
   "nbconvert_exporter": "python",
   "pygments_lexer": "ipython3",
   "version": "3.7.6"
  }
 },
 "nbformat": 4,
 "nbformat_minor": 4
}
