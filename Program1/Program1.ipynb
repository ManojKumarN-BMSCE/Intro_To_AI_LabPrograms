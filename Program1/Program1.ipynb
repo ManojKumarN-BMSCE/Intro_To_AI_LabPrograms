{
 "cells": [
  {
   "cell_type": "code",
   "execution_count": null,
   "metadata": {},
   "outputs": [],
   "source": [
    "def main():\n",
    "    a=True\n",
    "    b=False\n",
    "    print(\"not operation of a= \",not(a))\n",
    "    print(\"or operation of a and b= \",(a or b))\n",
    "    print(\"and operation of a and b= \", (a and b))\n",
    "    print(\"xor operation of a and b= \", (a ^ b))\n",
    "    print(\"xnor operation of a and b= \", not(a ^ b))\n",
    "    print(\"Implication of a and b= \", imp(a,b))\n",
    "    print(\"Bidirectional operation of a and b= \",bidir(a,b))\n",
    "\n",
    "def imp(a,b):\n",
    "    return (not(a)) or b\n",
    "\n",
    "def bidir(a,b):\n",
    "    return (imp(a,b) and imp(b,a))\n",
    "\n",
    "if __name__ == '__main__':\n",
    "    main()\n"
   ]
  }
 ],
 "metadata": {
  "kernelspec": {
   "display_name": "Python 3",
   "language": "python",
   "name": "python3"
  },
  "language_info": {
   "codemirror_mode": {
    "name": "ipython",
    "version": 3
   },
   "file_extension": ".py",
   "mimetype": "text/x-python",
   "name": "python",
   "nbconvert_exporter": "python",
   "pygments_lexer": "ipython3",
   "version": "3.7.6"
  }
 },
 "nbformat": 4,
 "nbformat_minor": 4
}
